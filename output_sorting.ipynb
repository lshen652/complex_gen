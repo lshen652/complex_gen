{
 "cells": [
  {
   "cell_type": "code",
   "execution_count": 26,
   "metadata": {},
   "outputs": [],
   "source": [
    "temp_looping = []\n",
    "temp_nl = []\n",
    "myfile = open('output.txt','r')\n",
    "temp_rs = [[],[],[],[],[],[]]\n",
    "for line in myfile.readlines():\n",
    "    if len(line.split('+')) == 1:\n",
    "        line = line.split('kon')[0] + 'konM' + line.split('kon')[1].split(',')[0].lower() + ',' + line.split('kon')[1].split(',')[1]\n",
    "        temp_looping.append(line)\n",
    "    else:\n",
    "        temp_nl.append(line[:-2]+line[-1])\n",
    "myfile.close()\n",
    "\n",
    "myfile2 = open('sorted_output.txt','w')\n",
    "for lo in temp_looping:\n",
    "    myfile2.write(lo)\n",
    "    myfile2.write('\\n')\n",
    "temp_nl.sort(key = len) \n",
    "\n",
    "for lo in temp_nl:\n",
    "    myfile2.write(lo)\n",
    "    myfile2.write('\\n')\n",
    "myfile2.close()"
   ]
  },
  {
   "cell_type": "code",
   "execution_count": 27,
   "metadata": {},
   "outputs": [],
   "source": [
    "def last_d(st):\n",
    "    return int(st.split()[-1][-1])"
   ]
  },
  {
   "cell_type": "code",
   "execution_count": 11,
   "metadata": {},
   "outputs": [
    {
     "name": "stdout",
     "output_type": "stream",
     "text": [
      "0 0\n"
     ]
    }
   ],
   "source": [
    "temp_looping = []\n",
    "temp_nl = []\n",
    "for line in temp_rs[0]:\n",
    "    if len(line.split('+')) == 1:\n",
    "        temp_looping.append(line)\n",
    "    else:\n",
    "        temp_nl.append(line[:-4]+line[:-1])\n",
    "        \n",
    "print(len(temp_looping),len(temp_nl))"
   ]
  },
  {
   "cell_type": "code",
   "execution_count": 28,
   "metadata": {},
   "outputs": [],
   "source": [
    "myfile2 = open('sorted_output.txt','w')\n",
    "myfile2.write('Reactions generated from first rule\\nLooping closure\\n')\n",
    "temp_looping.sort(key = len)\n",
    "for lo in temp_looping:\n",
    "    myfile2.write(lo)\n",
    "    myfile2.write('\\n')\n",
    "temp_nl.sort(key = len) \n",
    "myfile2.write('Non-looping\\n')\n",
    "for lo in temp_nl:\n",
    "    myfile2.write(lo)\n",
    "    myfile2.write('\\n')\n",
    "myfile2.close()"
   ]
  },
  {
   "cell_type": "code",
   "execution_count": 24,
   "metadata": {},
   "outputs": [
    {
     "name": "stdout",
     "output_type": "stream",
     "text": [
      "['A(a3,b1,b2,b,c,c3,d) + B(a,c,d) <-> A(a3,b1,b2,b!1,c,c3,d).B(a!1,c,d)  konAB,koff\\n', 'A(a3,b1,b2,b,c,c3,d) + C(a,b,d) <-> A(a3,b1,b2,b,c!1,c3,d).C(a!1,b,d)  konAC,koff\\n', 'A(a3,b1,b2,b!1,c,c3,d).B(a!1,c,d) + C(a,b,d) <-> A(a3,b1,b2,b!1,c!2,c3,d).B(a!1,c,d).C(a!2,b,d)  konAC,koff\\n', 'D(a,c,b) + A(a3,b1,b2,b,c,c3,d) <-> A(a3,b1,b2,b,c,c3,d!1).D(a!1,c,b)  konAD,koff\\n', 'D(a,c,b) + A(a3,b1,b2,b!1,c,c3,d).B(a!1,c,d) <-> A(a3,b1,b2,b!1,c,c3,d!2).B(a!1,c,d).D(a!2,c,b)  konAD,koff\\n', 'D(a,c,b) + A(a3,b1,b2,b,c!1,c3,d).C(a!1,b,d) <-> A(a3,b1,b2,b,c!1,c3,d!2).C(a!1,b,d).D(a!2,c,b)  konAD,koff\\n', 'D(a,c,b) + A(a3,b1,b2,b!1,c!2,c3,d).B(a!1,c,d).C(a!2,b,d) <-> A(a3,b1,b2,b!1,c!2,c3,d!3).B(a!1,c,d).C(a!2,b,d).D(a!3,c,b)  konAD,koff\\n', 'B(a,c,d) + C(a,b,d) <-> B(a,c!1,d).C(a,b!1,d)  konBC,koff\\n', 'B(a,c,d) + A(a3,b1,b2,b,c!1,c3,d).C(a!1,b,d) <-> A(a3,b1,b2,b,c!1,c3,d).B(a,c!2,d).C(a!1,b!2,d)  konBC,koff\\n', 'B(a,c,d) + A(a3,b1,b2,b,c!1,c3,d!2).C(a!1,b,d).D(a!2,c,b) <-> A(a3,b1,b2,b,c!1,c3,d!2).B(a,c!3,d).C(a!1,b!3,d).D(a!2,c,b)  konBC,koff\\n', 'A(a3,b1,b2,b!1,c,c3,d).B(a!1,c,d) + C(a,b,d) <-> A(a3,b1,b2,b!1,c,c3,d).B(a!1,c!2,d).C(a,b!2,d)  konBC,koff\\n', 'A(a3,b1,b2,b!1,c,c3,d!2).B(a!1,c,d).D(a!2,c,b) + C(a,b,d) <-> A(a3,b1,b2,b!1,c,c3,d!2).B(a!1,c!3,d).C(a,b!3,d).D(a!2,c,b)  konBC,koff\\n', 'B(a,c,d) + D(a,c,b) <-> B(a,c,d!1).D(a,c,b!1)  konBD,koff\\n', 'B(a,c,d) + A(a3,b1,b2,b,c,c3,d!1).D(a!1,c,b) <-> A(a3,b1,b2,b,c,c3,d!1).B(a,c,d!2).D(a!1,c,b!2)  konBD,koff\\n', 'B(a,c,d) + A(a3,b1,b2,b,c!1,c3,d!2).C(a!1,b,d).D(a!2,c,b) <-> A(a3,b1,b2,b,c!1,c3,d!2).B(a,c,d!3).C(a!1,b,d).D(a!2,c,b!3)  konBD,koff\\n', 'A(a3,b1,b2,b!1,c,c3,d).B(a!1,c,d) + D(a,c,b) <-> A(a3,b1,b2,b!1,c,c3,d).B(a!1,c,d!2).D(a,c,b!2)  konBD,koff\\n', 'A(a3,b1,b2,b!1,c!2,c3,d).B(a!1,c,d).C(a!2,b,d) + D(a,c,b) <-> A(a3,b1,b2,b!1,c!2,c3,d).B(a!1,c,d!3).C(a!2,b,d).D(a,c,b!3)  konBD,koff\\n', 'B(a,c!1,d).C(a,b!1,d) + D(a,c,b) <-> B(a,c!1,d!2).C(a,b!1,d).D(a,c,b!2)  konBD,koff\\n', 'B(a,c!1,d).C(a,b!1,d) + A(a3,b1,b2,b,c,c3,d!1).D(a!1,c,b) <-> A(a3,b1,b2,b,c,c3,d!1).B(a,c!2,d!3).C(a,b!2,d).D(a!1,c,b!3)  konBD,koff\\n', 'A(a3,b1,b2,b,c!1,c3,d).B(a,c!2,d).C(a!1,b!2,d) + D(a,c,b) <-> A(a3,b1,b2,b,c!1,c3,d).B(a,c!2,d!3).C(a!1,b!2,d).D(a,c,b!3)  konBD,koff\\n', 'A(a3,b1,b2,b!1,c,c3,d).B(a!1,c!2,d).C(a,b!2,d) + D(a,c,b) <-> A(a3,b1,b2,b!1,c,c3,d).B(a!1,c!2,d!3).C(a,b!2,d).D(a,c,b!3)  konBD,koff\\n', 'A(a3,b1,b2,b!1,c!2,c3,d).B(a!1,c!3,d).C(a!2,b!3,d) + D(a,c,b) <-> A(a3,b1,b2,b!1,c!2,c3,d).B(a!1,c!3,d!4).C(a!2,b!3,d).D(a,c,b!4)  konBD,koff\\n', 'C(a,b,d) + D(a,c,b) <-> C(a,b,d!1).D(a,c!1,b)  konCD,koff\\n', 'C(a,b,d) + A(a3,b1,b2,b,c,c3,d!1).D(a!1,c,b) <-> A(a3,b1,b2,b,c,c3,d!1).C(a,b,d!2).D(a!1,c!2,b)  konCD,koff\\n', 'C(a,b,d) + A(a3,b1,b2,b!1,c,c3,d!2).B(a!1,c,d).D(a!2,c,b) <-> A(a3,b1,b2,b!1,c,c3,d!2).B(a!1,c,d).C(a,b,d!3).D(a!2,c!3,b)  konCD,koff\\n', 'C(a,b,d) + B(a,c,d!1).D(a,c,b!1) <-> B(a,c,d!1).C(a,b,d!2).D(a,c!2,b!1)  konCD,koff\\n', 'C(a,b,d) + A(a3,b1,b2,b,c,c3,d!1).B(a,c,d!2).D(a!1,c,b!2) <-> A(a3,b1,b2,b,c,c3,d!1).B(a,c,d!2).C(a,b,d!3).D(a!1,c!3,b!2)  konCD,koff\\n', 'C(a,b,d) + A(a3,b1,b2,b!1,c,c3,d).B(a!1,c,d!2).D(a,c,b!2) <-> A(a3,b1,b2,b!1,c,c3,d).B(a!1,c,d!2).C(a,b,d!3).D(a,c!3,b!2)  konCD,koff\\n', 'C(a,b,d) + A(a3,b1,b2,b!1,c,c3,d!2).B(a!1,c,d!3).D(a!2,c,b!3) <-> A(a3,b1,b2,b!1,c,c3,d!2).B(a!1,c,d!3).C(a,b,d!4).D(a!2,c!4,b!3)  konCD,koff\\n', 'A(a3,b1,b2,b,c!1,c3,d).C(a!1,b,d) + D(a,c,b) <-> A(a3,b1,b2,b,c!1,c3,d).C(a!1,b,d!2).D(a,c!2,b)  konCD,koff\\n', 'A(a3,b1,b2,b,c!1,c3,d).C(a!1,b,d) + B(a,c,d!1).D(a,c,b!1) <-> A(a3,b1,b2,b,c!1,c3,d).B(a,c,d!2).C(a!1,b,d!3).D(a,c!3,b!2)  konCD,koff\\n', 'A(a3,b1,b2,b!1,c!2,c3,d).B(a!1,c,d).C(a!2,b,d) + D(a,c,b) <-> A(a3,b1,b2,b!1,c!2,c3,d).B(a!1,c,d).C(a!2,b,d!3).D(a,c!3,b)  konCD,koff\\n', 'B(a,c!1,d).C(a,b!1,d) + D(a,c,b) <-> B(a,c!1,d).C(a,b!1,d!2).D(a,c!2,b)  konCD,koff\\n', 'B(a,c!1,d).C(a,b!1,d) + A(a3,b1,b2,b,c,c3,d!1).D(a!1,c,b) <-> A(a3,b1,b2,b,c,c3,d!1).B(a,c!2,d).C(a,b!2,d!3).D(a!1,c!3,b)  konCD,koff\\n', 'A(a3,b1,b2,b,c!1,c3,d).B(a,c!2,d).C(a!1,b!2,d) + D(a,c,b) <-> A(a3,b1,b2,b,c!1,c3,d).B(a,c!2,d).C(a!1,b!2,d!3).D(a,c!3,b)  konCD,koff\\n', 'A(a3,b1,b2,b!1,c,c3,d).B(a!1,c!2,d).C(a,b!2,d) + D(a,c,b) <-> A(a3,b1,b2,b!1,c,c3,d).B(a!1,c!2,d).C(a,b!2,d!3).D(a,c!3,b)  konCD,koff\\n', 'A(a3,b1,b2,b!1,c!2,c3,d).B(a!1,c!3,d).C(a!2,b!3,d) + D(a,c,b) <-> A(a3,b1,b2,b!1,c!2,c3,d).B(a!1,c!3,d).C(a!2,b!3,d!4).D(a,c!4,b)  konCD,koff\\n', 'A(a3,b1,b2,b,c,c3,d) + B(a,c!1,d).C(a,b!1,d) <-> A(a3,b1,b2,b!1,c,c3,d).B(a!1,c!2,d).C(a,b!2,d)  konAB,koff\\n', 'A(a3,b1,b2,b,c,c3,d) + B(a,c,d!1).D(a,c,b!1) <-> A(a3,b1,b2,b!1,c,c3,d).B(a!1,c,d!2).D(a,c,b!2)  konAB,koff\\n', 'A(a3,b1,b2,b,c,c3,d) + B(a,c!1,d!2).C(a,b!1,d).D(a,c,b!2) <-> A(a3,b1,b2,b!1,c,c3,d).B(a!1,c!2,d!3).C(a,b!2,d).D(a,c,b!3)  konAB,koff\\n', 'A(a3,b1,b2,b,c,c3,d) + B(a,c,d!1).C(a,b,d!2).D(a,c!2,b!1) <-> A(a3,b1,b2,b!1,c,c3,d).B(a!1,c,d!2).C(a,b,d!3).D(a,c!3,b!2)  konAB,koff\\n', 'A(a3,b1,b2,b,c,c3,d) + B(a,c!1,d).C(a,b!1,d!2).D(a,c!2,b) <-> A(a3,b1,b2,b!1,c,c3,d).B(a!1,c!2,d).C(a,b!2,d!3).D(a,c!3,b)  konAB,koff\\n', 'A(a3,b1,b2,b,c,c3,d) + B(a,c!1,d!2).C(a,b!1,d!3).D(a,c!3,b!2) <-> A(a3,b1,b2,b!1,c,c3,d).B(a!1,c!2,d!3).C(a,b!2,d!4).D(a,c!4,b!3)  konAB,koff\\n', 'A(a3,b1,b2,b,c!1,c3,d).C(a!1,b,d) + B(a,c,d) <-> A(a3,b1,b2,b!1,c!2,c3,d).B(a!1,c,d).C(a!2,b,d)  konAB,koff\\n', 'A(a3,b1,b2,b,c!1,c3,d).C(a!1,b,d) + B(a,c,d!1).D(a,c,b!1) <-> A(a3,b1,b2,b!1,c!2,c3,d).B(a!1,c,d!3).C(a!2,b,d).D(a,c,b!3)  konAB,koff\\n', 'A(a3,b1,b2,b,c,c3,d!1).D(a!1,c,b) + B(a,c,d) <-> A(a3,b1,b2,b!1,c,c3,d!2).B(a!1,c,d).D(a!2,c,b)  konAB,koff\\n', 'A(a3,b1,b2,b,c,c3,d!1).D(a!1,c,b) + B(a,c!1,d).C(a,b!1,d) <-> A(a3,b1,b2,b!1,c,c3,d!2).B(a!1,c!3,d).C(a,b!3,d).D(a!2,c,b)  konAB,koff\\n', 'A(a3,b1,b2,b,c!1,c3,d!2).C(a!1,b,d).D(a!2,c,b) + B(a,c,d) <-> A(a3,b1,b2,b!1,c!2,c3,d!3).B(a!1,c,d).C(a!2,b,d).D(a!3,c,b)  konAB,koff\\n', 'A(a3,b1,b2,b,c,c3,d!1).C(a,b,d!2).D(a!1,c!2,b) + B(a,c,d) <-> A(a3,b1,b2,b!1,c,c3,d!2).B(a!1,c,d).C(a,b,d!3).D(a!2,c!3,b)  konAB,koff\\n', 'A(a3,b1,b2,b,c!1,c3,d).C(a!1,b,d!2).D(a,c!2,b) + B(a,c,d) <-> A(a3,b1,b2,b!1,c!2,c3,d).B(a!1,c,d).C(a!2,b,d!3).D(a,c!3,b)  konAB,koff\\n', 'A(a3,b1,b2,b,c!1,c3,d!2).C(a!1,b,d!3).D(a!2,c!3,b) + B(a,c,d) <-> A(a3,b1,b2,b!1,c!2,c3,d!3).B(a!1,c,d).C(a!2,b,d!4).D(a!3,c!4,b)  konAB,koff\\n', 'A(a3,b1,b2,b,c,c3,d) + B(a,c!1,d).C(a,b!1,d) <-> A(a3,b1,b2,b,c!1,c3,d).B(a,c!2,d).C(a!1,b!2,d)  konAC,koff\\n', 'A(a3,b1,b2,b,c,c3,d) + B(a,c!1,d!2).C(a,b!1,d).D(a,c,b!2) <-> A(a3,b1,b2,b,c!1,c3,d).B(a,c!2,d!3).C(a!1,b!2,d).D(a,c,b!3)  konAC,koff\\n', 'A(a3,b1,b2,b,c,c3,d) + C(a,b,d!1).D(a,c!1,b) <-> A(a3,b1,b2,b,c!1,c3,d).C(a!1,b,d!2).D(a,c!2,b)  konAC,koff\\n', 'A(a3,b1,b2,b,c,c3,d) + B(a,c,d!1).C(a,b,d!2).D(a,c!2,b!1) <-> A(a3,b1,b2,b,c!1,c3,d).B(a,c,d!2).C(a!1,b,d!3).D(a,c!3,b!2)  konAC,koff\\n', 'A(a3,b1,b2,b,c,c3,d) + B(a,c!1,d).C(a,b!1,d!2).D(a,c!2,b) <-> A(a3,b1,b2,b,c!1,c3,d).B(a,c!2,d).C(a!1,b!2,d!3).D(a,c!3,b)  konAC,koff\\n', 'A(a3,b1,b2,b,c,c3,d) + B(a,c!1,d!2).C(a,b!1,d!3).D(a,c!3,b!2) <-> A(a3,b1,b2,b,c!1,c3,d).B(a,c!2,d!3).C(a!1,b!2,d!4).D(a,c!4,b!3)  konAC,koff\\n', 'A(a3,b1,b2,b!1,c,c3,d).B(a!1,c,d) + C(a,b,d!1).D(a,c!1,b) <-> A(a3,b1,b2,b!1,c!2,c3,d).B(a!1,c,d).C(a!2,b,d!3).D(a,c!3,b)  konAC,koff\\n', 'A(a3,b1,b2,b,c,c3,d!1).D(a!1,c,b) + C(a,b,d) <-> A(a3,b1,b2,b,c!1,c3,d!2).C(a!1,b,d).D(a!2,c,b)  konAC,koff\\n', 'A(a3,b1,b2,b,c,c3,d!1).D(a!1,c,b) + B(a,c!1,d).C(a,b!1,d) <-> A(a3,b1,b2,b,c!1,c3,d!2).B(a,c!3,d).C(a!1,b!3,d).D(a!2,c,b)  konAC,koff\\n', 'A(a3,b1,b2,b!1,c,c3,d!2).B(a!1,c,d).D(a!2,c,b) + C(a,b,d) <-> A(a3,b1,b2,b!1,c!2,c3,d!3).B(a!1,c,d).C(a!2,b,d).D(a!3,c,b)  konAC,koff\\n', 'A(a3,b1,b2,b,c,c3,d!1).B(a,c,d!2).D(a!1,c,b!2) + C(a,b,d) <-> A(a3,b1,b2,b,c!1,c3,d!2).B(a,c,d!3).C(a!1,b,d).D(a!2,c,b!3)  konAC,koff\\n', 'A(a3,b1,b2,b!1,c,c3,d).B(a!1,c,d!2).D(a,c,b!2) + C(a,b,d) <-> A(a3,b1,b2,b!1,c!2,c3,d).B(a!1,c,d!3).C(a!2,b,d).D(a,c,b!3)  konAC,koff\\n', 'A(a3,b1,b2,b!1,c,c3,d!2).B(a!1,c,d!3).D(a!2,c,b!3) + C(a,b,d) <-> A(a3,b1,b2,b!1,c!2,c3,d!3).B(a!1,c,d!4).C(a!2,b,d).D(a!3,c,b!4)  konAC,koff\\n', 'D(a,c,b) + A(a3,b1,b2,b,c!1,c3,d).B(a,c!2,d).C(a!1,b!2,d) <-> A(a3,b1,b2,b,c!1,c3,d!2).B(a,c!3,d).C(a!1,b!3,d).D(a!2,c,b)  konAD,koff\\n', 'D(a,c,b) + A(a3,b1,b2,b!1,c,c3,d).B(a!1,c!2,d).C(a,b!2,d) <-> A(a3,b1,b2,b!1,c,c3,d!2).B(a!1,c!3,d).C(a,b!3,d).D(a!2,c,b)  konAD,koff\\n', 'D(a,c,b) + A(a3,b1,b2,b!1,c!2,c3,d).B(a!1,c!3,d).C(a!2,b!3,d) <-> A(a3,b1,b2,b!1,c!2,c3,d!3).B(a!1,c!4,d).C(a!2,b!4,d).D(a!3,c,b)  konAD,koff\\n', 'B(a,c,d!1).D(a,c,b!1) + A(a3,b1,b2,b,c,c3,d) <-> A(a3,b1,b2,b,c,c3,d!1).B(a,c,d!2).D(a!1,c,b!2)  konAD,koff\\n', 'B(a,c,d!1).D(a,c,b!1) + A(a3,b1,b2,b,c!1,c3,d).C(a!1,b,d) <-> A(a3,b1,b2,b,c!1,c3,d!2).B(a,c,d!3).C(a!1,b,d).D(a!2,c,b!3)  konAD,koff\\n', 'B(a,c!1,d!2).C(a,b!1,d).D(a,c,b!2) + A(a3,b1,b2,b,c,c3,d) <-> A(a3,b1,b2,b,c,c3,d!1).B(a,c!2,d!3).C(a,b!2,d).D(a!1,c,b!3)  konAD,koff\\n', 'C(a,b,d!1).D(a,c!1,b) + A(a3,b1,b2,b,c,c3,d) <-> A(a3,b1,b2,b,c,c3,d!1).C(a,b,d!2).D(a!1,c!2,b)  konAD,koff\\n', 'C(a,b,d!1).D(a,c!1,b) + A(a3,b1,b2,b!1,c,c3,d).B(a!1,c,d) <-> A(a3,b1,b2,b!1,c,c3,d!2).B(a!1,c,d).C(a,b,d!3).D(a!2,c!3,b)  konAD,koff\\n', 'B(a,c,d!1).C(a,b,d!2).D(a,c!2,b!1) + A(a3,b1,b2,b,c,c3,d) <-> A(a3,b1,b2,b,c,c3,d!1).B(a,c,d!2).C(a,b,d!3).D(a!1,c!3,b!2)  konAD,koff\\n', 'B(a,c!1,d).C(a,b!1,d!2).D(a,c!2,b) + A(a3,b1,b2,b,c,c3,d) <-> A(a3,b1,b2,b,c,c3,d!1).B(a,c!2,d).C(a,b!2,d!3).D(a!1,c!3,b)  konAD,koff\\n', 'B(a,c!1,d!2).C(a,b!1,d!3).D(a,c!3,b!2) + A(a3,b1,b2,b,c,c3,d) <-> A(a3,b1,b2,b,c,c3,d!1).B(a,c!2,d!3).C(a,b!2,d!4).D(a!1,c!4,b!3)  konAD,koff\\n', 'B(a,c,d) + C(a,b,d!1).D(a,c!1,b) <-> B(a,c!1,d).C(a,b!1,d!2).D(a,c!2,b)  konBC,koff\\n', 'B(a,c,d) + A(a3,b1,b2,b,c,c3,d!1).C(a,b,d!2).D(a!1,c!2,b) <-> A(a3,b1,b2,b,c,c3,d!1).B(a,c!2,d).C(a,b!2,d!3).D(a!1,c!3,b)  konBC,koff\\n', 'B(a,c,d) + A(a3,b1,b2,b,c!1,c3,d).C(a!1,b,d!2).D(a,c!2,b) <-> A(a3,b1,b2,b,c!1,c3,d).B(a,c!2,d).C(a!1,b!2,d!3).D(a,c!3,b)  konBC,koff\\n', 'B(a,c,d) + A(a3,b1,b2,b,c!1,c3,d!2).C(a!1,b,d!3).D(a!2,c!3,b) <-> A(a3,b1,b2,b,c!1,c3,d!2).B(a,c!3,d).C(a!1,b!3,d!4).D(a!2,c!4,b)  konBC,koff\\n', 'A(a3,b1,b2,b!1,c,c3,d).B(a!1,c,d) + C(a,b,d!1).D(a,c!1,b) <-> A(a3,b1,b2,b!1,c,c3,d).B(a!1,c!2,d).C(a,b!2,d!3).D(a,c!3,b)  konBC,koff\\n', 'B(a,c,d!1).D(a,c,b!1) + C(a,b,d) <-> B(a,c!1,d!2).C(a,b!1,d).D(a,c,b!2)  konBC,koff\\n', 'B(a,c,d!1).D(a,c,b!1) + A(a3,b1,b2,b,c!1,c3,d).C(a!1,b,d) <-> A(a3,b1,b2,b,c!1,c3,d).B(a,c!2,d!3).C(a!1,b!2,d).D(a,c,b!3)  konBC,koff\\n', 'A(a3,b1,b2,b,c,c3,d!1).B(a,c,d!2).D(a!1,c,b!2) + C(a,b,d) <-> A(a3,b1,b2,b,c,c3,d!1).B(a,c!2,d!3).C(a,b!2,d).D(a!1,c,b!3)  konBC,koff\\n', 'A(a3,b1,b2,b!1,c,c3,d).B(a!1,c,d!2).D(a,c,b!2) + C(a,b,d) <-> A(a3,b1,b2,b!1,c,c3,d).B(a!1,c!2,d!3).C(a,b!2,d).D(a,c,b!3)  konBC,koff\\n', 'A(a3,b1,b2,b!1,c,c3,d!2).B(a!1,c,d!3).D(a!2,c,b!3) + C(a,b,d) <-> A(a3,b1,b2,b!1,c,c3,d!2).B(a!1,c!3,d!4).C(a,b!3,d).D(a!2,c,b!4)  konBC,koff\\n', 'B(a,c,d) + C(a,b,d!1).D(a,c!1,b) <-> B(a,c,d!1).C(a,b,d!2).D(a,c!2,b!1)  konBD,koff\\n', 'B(a,c,d) + A(a3,b1,b2,b,c,c3,d!1).C(a,b,d!2).D(a!1,c!2,b) <-> A(a3,b1,b2,b,c,c3,d!1).B(a,c,d!2).C(a,b,d!3).D(a!1,c!3,b!2)  konBD,koff\\n', 'B(a,c,d) + A(a3,b1,b2,b,c!1,c3,d).C(a!1,b,d!2).D(a,c!2,b) <-> A(a3,b1,b2,b,c!1,c3,d).B(a,c,d!2).C(a!1,b,d!3).D(a,c!3,b!2)  konBD,koff\\n', 'B(a,c,d) + A(a3,b1,b2,b,c!1,c3,d!2).C(a!1,b,d!3).D(a!2,c!3,b) <-> A(a3,b1,b2,b,c!1,c3,d!2).B(a,c,d!3).C(a!1,b,d!4).D(a!2,c!4,b!3)  konBD,koff\\n', 'A(a3,b1,b2,b!1,c,c3,d).B(a!1,c,d) + C(a,b,d!1).D(a,c!1,b) <-> A(a3,b1,b2,b!1,c,c3,d).B(a!1,c,d!2).C(a,b,d!3).D(a,c!3,b!2)  konBD,koff\\n']\n"
     ]
    }
   ],
   "source": [
    "print(temp_nl)"
   ]
  },
  {
   "cell_type": "code",
   "execution_count": null,
   "metadata": {},
   "outputs": [],
   "source": []
  }
 ],
 "metadata": {
  "kernelspec": {
   "display_name": "Python 3",
   "language": "python",
   "name": "python3"
  },
  "language_info": {
   "codemirror_mode": {
    "name": "ipython",
    "version": 3
   },
   "file_extension": ".py",
   "mimetype": "text/x-python",
   "name": "python",
   "nbconvert_exporter": "python",
   "pygments_lexer": "ipython3",
   "version": "3.7.4"
  }
 },
 "nbformat": 4,
 "nbformat_minor": 4
}
